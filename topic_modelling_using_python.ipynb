{
  "nbformat": 4,
  "nbformat_minor": 0,
  "metadata": {
    "colab": {
      "provenance": [],
      "authorship_tag": "ABX9TyNjLCvPcQ2eoqyUAEvR2qed",
      "include_colab_link": true
    },
    "kernelspec": {
      "name": "python3",
      "display_name": "Python 3"
    },
    "language_info": {
      "name": "python"
    }
  },
  "cells": [
    {
      "cell_type": "markdown",
      "metadata": {
        "id": "view-in-github",
        "colab_type": "text"
      },
      "source": [
        "<a href=\"https://colab.research.google.com/github/esraalegebaly/-Analysis-with-SQL-and-Tableau-Project/blob/main/topic_modelling_using_python.ipynb\" target=\"_parent\"><img src=\"https://colab.research.google.com/assets/colab-badge.svg\" alt=\"Open In Colab\"/></a>"
      ]
    },
    {
      "cell_type": "code",
      "execution_count": null,
      "metadata": {
        "colab": {
          "base_uri": "https://localhost:8080/"
        },
        "id": "NCzIYK0xWQ6z",
        "outputId": "fadfb955-46d0-41cb-8f3c-5a4298bf9026"
      },
      "outputs": [
        {
          "output_type": "stream",
          "name": "stderr",
          "text": [
            "[nltk_data] Downloading package punkt to /root/nltk_data...\n",
            "[nltk_data]   Unzipping tokenizers/punkt.zip.\n",
            "[nltk_data] Downloading package stopwords to /root/nltk_data...\n",
            "[nltk_data]   Unzipping corpora/stopwords.zip.\n",
            "[nltk_data] Downloading package wordnet to /root/nltk_data...\n",
            "[nltk_data] Downloading package omw-1.4 to /root/nltk_data...\n"
          ]
        },
        {
          "output_type": "stream",
          "name": "stdout",
          "text": [
            "                                             Article  \\\n",
            "0  Data analysis is the process of inspecting and...   \n",
            "1  The performance of a machine learning algorith...   \n",
            "2  You must have seen the news divided into categ...   \n",
            "3  When there are only two classes in a classific...   \n",
            "4  The Multinomial Naive Bayes is one of the vari...   \n",
            "\n",
            "                                               Title  \n",
            "0                  Best Books to Learn Data Analysis  \n",
            "1         Assumptions of Machine Learning Algorithms  \n",
            "2          News Classification with Machine Learning  \n",
            "3  Multiclass Classification Algorithms in Machin...  \n",
            "4        Multinomial Naive Bayes in Machine Learning  \n"
          ]
        }
      ],
      "source": [
        "import numpy as np\n",
        "import pandas as pd\n",
        "import nltk\n",
        "from nltk.corpus import stopwords\n",
        "from nltk.stem.wordnet import WordNetLemmatizer\n",
        "import string\n",
        "from sklearn.feature_extraction.text import TfidfVectorizer, CountVectorizer\n",
        "from sklearn.decomposition import LatentDirichletAllocation\n",
        "nltk.download('punkt')\n",
        "nltk.download('stopwords')\n",
        "nltk.download('wordnet')\n",
        "nltk.download('omw-1.4')\n",
        "\n",
        "data = pd.read_csv(\"articles.csv\", encoding = 'latin1')\n",
        "print(data.head())"
      ]
    },
    {
      "cell_type": "code",
      "source": [
        "def preprocess_text(text):\n",
        "    # Convert text to lowercase\n",
        "    text = text.lower()\n",
        "    # Remove punctuation\n",
        "    text = text.translate(str.maketrans('', '', string.punctuation))\n",
        "    # Tokenize text\n",
        "    tokens = nltk.word_tokenize(text)\n",
        "    # Remove stopwords\n",
        "    stop_words = set(stopwords.words(\"english\"))\n",
        "    tokens = [word for word in tokens if word not in stop_words]\n",
        "    # Lemmatize tokens\n",
        "    lemma = WordNetLemmatizer()\n",
        "    tokens = [lemma.lemmatize(word) for word in tokens]\n",
        "    # Join tokens to form preprocessed text\n",
        "    preprocessed_text = ' '.join(tokens)\n",
        "    return preprocessed_text\n",
        "\n",
        "data['Article'] = data['Article'].apply(preprocess_text)"
      ],
      "metadata": {
        "id": "mLXBECBUXE-w"
      },
      "execution_count": null,
      "outputs": []
    },
    {
      "cell_type": "code",
      "source": [
        "vectorizer = TfidfVectorizer()\n",
        "x = vectorizer.fit_transform(data['Article'].values)"
      ],
      "metadata": {
        "id": "UbnfxyBTXMfS"
      },
      "execution_count": null,
      "outputs": []
    },
    {
      "cell_type": "code",
      "source": [
        "lda = LatentDirichletAllocation(n_components=5, random_state=42)\n",
        "lda.fit(x)\n",
        "\n",
        "topic_modelling = lda.transform(x)\n",
        "\n",
        "topic_labels = np.argmax(topic_modelling, axis=1)\n",
        "data['topic_labels'] = topic_labels"
      ],
      "metadata": {
        "id": "qVKwVba1XQYu"
      },
      "execution_count": null,
      "outputs": []
    },
    {
      "cell_type": "code",
      "source": [
        "print(data.head())"
      ],
      "metadata": {
        "colab": {
          "base_uri": "https://localhost:8080/"
        },
        "id": "sqJY2PA8XTYo",
        "outputId": "02f2cf82-00f8-498e-bcd0-c53b1d6979c8"
      },
      "execution_count": null,
      "outputs": [
        {
          "output_type": "stream",
          "name": "stdout",
          "text": [
            "                                             Article  \\\n",
            "0  data analysis process inspecting exploring dat...   \n",
            "1  performance machine learning algorithm particu...   \n",
            "2  must seen news divided category go news websit...   \n",
            "3  two class classification problem problem binar...   \n",
            "4  multinomial naive bayes one variant naive baye...   \n",
            "\n",
            "                                               Title  topic_labels  \n",
            "0                  Best Books to Learn Data Analysis             2  \n",
            "1         Assumptions of Machine Learning Algorithms             3  \n",
            "2          News Classification with Machine Learning             1  \n",
            "3  Multiclass Classification Algorithms in Machin...             3  \n",
            "4        Multinomial Naive Bayes in Machine Learning             1  \n"
          ]
        }
      ]
    },
    {
      "cell_type": "code",
      "source": [],
      "metadata": {
        "id": "ZPZ6iYPoXWdN"
      },
      "execution_count": null,
      "outputs": []
    }
  ]
}