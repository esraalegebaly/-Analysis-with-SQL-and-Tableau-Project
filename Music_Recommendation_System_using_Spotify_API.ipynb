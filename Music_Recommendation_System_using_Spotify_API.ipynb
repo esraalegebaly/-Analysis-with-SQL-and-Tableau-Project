{
  "nbformat": 4,
  "nbformat_minor": 0,
  "metadata": {
    "colab": {
      "provenance": [],
      "authorship_tag": "ABX9TyO5+Xz3nfurDTh3FL+Lu4A1",
      "include_colab_link": true
    },
    "kernelspec": {
      "name": "python3",
      "display_name": "Python 3"
    },
    "language_info": {
      "name": "python"
    }
  },
  "cells": [
    {
      "cell_type": "markdown",
      "metadata": {
        "id": "view-in-github",
        "colab_type": "text"
      },
      "source": [
        "<a href=\"https://colab.research.google.com/github/esraalegebaly/-Analysis-with-SQL-and-Tableau-Project/blob/main/Music_Recommendation_System_using_Spotify_API.ipynb\" target=\"_parent\"><img src=\"https://colab.research.google.com/assets/colab-badge.svg\" alt=\"Open In Colab\"/></a>"
      ]
    },
    {
      "cell_type": "code",
      "execution_count": 4,
      "metadata": {
        "colab": {
          "base_uri": "https://localhost:8080/"
        },
        "id": "TIh9XhiVGdu6",
        "outputId": "9b24cbc0-c74c-4250-c4d7-eb7897f76279"
      },
      "outputs": [
        {
          "output_type": "stream",
          "name": "stdout",
          "text": [
            "Access token obtained successfully.\n"
          ]
        }
      ],
      "source": [
        "import requests\n",
        "import base64\n",
        "\n",
        "# Replace with your own Client ID and Client Secret\n",
        "CLIENT_ID = 'c334980896a349a2beef66f5f430d359'\n",
        "CLIENT_SECRET = 'cda9b83f6b214cd0bba2e0e5e62bfd05'\n",
        "\n",
        "# Base64 encode the client ID and client secret\n",
        "client_credentials = f\"{'c334980896a349a2beef66f5f430d359'}:{'cda9b83f6b214cd0bba2e0e5e62bfd05'}\"\n",
        "client_credentials_base64 = base64.b64encode(client_credentials.encode())\n",
        "\n",
        "# Request the access token\n",
        "token_url = 'https://accounts.spotify.com/api/token'\n",
        "headers = {\n",
        "    'Authorization': f'Basic {client_credentials_base64.decode()}'\n",
        "}\n",
        "data = {\n",
        "    'grant_type': 'client_credentials'\n",
        "}\n",
        "response = requests.post(token_url, data=data, headers=headers)\n",
        "\n",
        "if response.status_code == 200:\n",
        "    access_token = response.json()['access_token']\n",
        "    print(\"Access token obtained successfully.\")\n",
        "else:\n",
        "    print(\"Error obtaining access token.\")\n",
        "    exit()"
      ]
    },
    {
      "cell_type": "code",
      "source": [
        "%pip install spotipy\n",
        "import pandas as pd\n",
        "import spotipy\n",
        "from spotipy.oauth2 import SpotifyOAuth\n",
        "\n",
        "def get_trending_playlist_data(playlist_id, access_token):\n",
        "    # Set up Spotipy with the access token\n",
        "    sp = spotipy.Spotify(auth=access_token)\n",
        "\n",
        "    # Get the tracks from the playlist\n",
        "    playlist_tracks = sp.playlist_tracks(playlist_id, fields='items(track(id, name, artists, album(id, name)))')\n",
        "\n",
        "    # Extract relevant information and store in a list of dictionaries\n",
        "    music_data = []\n",
        "    for track_info in playlist_tracks['items']:\n",
        "        track = track_info['track']\n",
        "        track_name = track['name']\n",
        "        artists = ', '.join([artist['name'] for artist in track['artists']])\n",
        "        album_name = track['album']['name']\n",
        "        album_id = track['album']['id']\n",
        "        track_id = track['id']\n",
        "\n",
        "        # Get audio features for the track\n",
        "        audio_features = sp.audio_features(track_id)[0] if track_id != 'Not available' else None\n",
        "\n",
        "        # Get release date of the album\n",
        "        try:\n",
        "            album_info = sp.album(album_id) if album_id != 'Not available' else None\n",
        "            release_date = album_info['release_date'] if album_info else None\n",
        "        except:\n",
        "            release_date = None\n",
        "\n",
        "        # Get popularity of the track\n",
        "        try:\n",
        "            track_info = sp.track(track_id) if track_id != 'Not available' else None\n",
        "            popularity = track_info['popularity'] if track_info else None\n",
        "        except:\n",
        "            popularity = None\n",
        "\n",
        "        # Add additional track information to the track data\n",
        "        track_data = {\n",
        "            'Track Name': track_name,\n",
        "            'Artists': artists,\n",
        "            'Album Name': album_name,\n",
        "            'Album ID': album_id,\n",
        "            'Track ID': track_id,\n",
        "            'Popularity': popularity,\n",
        "            'Release Date': release_date,\n",
        "            'Duration (ms)': audio_features['duration_ms'] if audio_features else None,\n",
        "            'Explicit': track_info.get('explicit', None),\n",
        "            'External URLs': track_info.get('external_urls', {}).get('spotify', None),\n",
        "            'Danceability': audio_features['danceability'] if audio_features else None,\n",
        "            'Energy': audio_features['energy'] if audio_features else None,\n",
        "            'Key': audio_features['key'] if audio_features else None,\n",
        "            'Loudness': audio_features['loudness'] if audio_features else None,\n",
        "            'Mode': audio_features['mode'] if audio_features else None,\n",
        "            'Speechiness': audio_features['speechiness'] if audio_features else None,\n",
        "            'Acousticness': audio_features['acousticness'] if audio_features else None,\n",
        "            'Instrumentalness': audio_features['instrumentalness'] if audio_features else None,\n",
        "            'Liveness': audio_features['liveness'] if audio_features else None,\n",
        "            'Valence': audio_features['valence'] if audio_features else None,\n",
        "            'Tempo': audio_features['tempo'] if audio_features else None,\n",
        "            # Add more attributes as needed\n",
        "        }\n",
        "\n",
        "        music_data.append(track_data)\n",
        "\n",
        "    # Create a pandas DataFrame from the list of dictionaries\n",
        "    df = pd.DataFrame(music_data)\n",
        "\n",
        "    return df\n"
      ],
      "metadata": {
        "colab": {
          "base_uri": "https://localhost:8080/"
        },
        "id": "nPQHgCaHI_p9",
        "outputId": "a5f8eae8-c86f-4531-ea5e-6c02d7a65e4f"
      },
      "execution_count": 12,
      "outputs": [
        {
          "output_type": "stream",
          "name": "stdout",
          "text": [
            "Collecting spotipy\n",
            "  Downloading spotipy-2.24.0-py3-none-any.whl.metadata (4.9 kB)\n",
            "Collecting redis>=3.5.3 (from spotipy)\n",
            "  Downloading redis-5.2.0-py3-none-any.whl.metadata (9.1 kB)\n",
            "Requirement already satisfied: requests>=2.25.0 in /usr/local/lib/python3.10/dist-packages (from spotipy) (2.32.3)\n",
            "Requirement already satisfied: urllib3>=1.26.0 in /usr/local/lib/python3.10/dist-packages (from spotipy) (2.2.3)\n",
            "Requirement already satisfied: async-timeout>=4.0.3 in /usr/local/lib/python3.10/dist-packages (from redis>=3.5.3->spotipy) (4.0.3)\n",
            "Requirement already satisfied: charset-normalizer<4,>=2 in /usr/local/lib/python3.10/dist-packages (from requests>=2.25.0->spotipy) (3.4.0)\n",
            "Requirement already satisfied: idna<4,>=2.5 in /usr/local/lib/python3.10/dist-packages (from requests>=2.25.0->spotipy) (3.10)\n",
            "Requirement already satisfied: certifi>=2017.4.17 in /usr/local/lib/python3.10/dist-packages (from requests>=2.25.0->spotipy) (2024.8.30)\n",
            "Downloading spotipy-2.24.0-py3-none-any.whl (30 kB)\n",
            "Downloading redis-5.2.0-py3-none-any.whl (261 kB)\n",
            "\u001b[2K   \u001b[90m━━━━━━━━━━━━━━━━━━━━━━━━━━━━━━━━━━━━━━━━\u001b[0m \u001b[32m261.4/261.4 kB\u001b[0m \u001b[31m18.2 MB/s\u001b[0m eta \u001b[36m0:00:00\u001b[0m\n",
            "\u001b[?25hInstalling collected packages: redis, spotipy\n",
            "Successfully installed redis-5.2.0 spotipy-2.24.0\n"
          ]
        }
      ]
    },
    {
      "cell_type": "code",
      "source": [
        "playlist_id = '37i9dQZF1DX76Wlfdnj7AP'\n",
        "\n",
        "# Call the function to get the music data from the playlist and store it in a DataFrame\n",
        "music_df = get_trending_playlist_data(playlist_id, access_token)\n",
        "\n",
        "# Display the DataFrame\n",
        "print(music_df)"
      ],
      "metadata": {
        "colab": {
          "base_uri": "https://localhost:8080/"
        },
        "id": "lRuUfpBvKDGH",
        "outputId": "44ff6a9f-968b-4858-dcb9-6b3d1ed18a11"
      },
      "execution_count": 13,
      "outputs": [
        {
          "output_type": "stream",
          "name": "stdout",
          "text": [
            "                           Track Name                    Artists  \\\n",
            "0               The Emptiness Machine                Linkin Park   \n",
            "1                         Not Like Us             Kendrick Lamar   \n",
            "2                           Big Dawgs         Hanumankind, Kalmi   \n",
            "3       Guess featuring billie eilish  Charli xcx, Billie Eilish   \n",
            "4                  I Don't Wanna Wait  David Guetta, OneRepublic   \n",
            "..                                ...                        ...   \n",
            "95                         BABY HELLO   Rauw Alejandro, Bizarrap   \n",
            "96                            Players                  Coi Leray   \n",
            "97     Everybody (feat. Lil Uzi Vert)  Nicki Minaj, Lil Uzi Vert   \n",
            "98                         Area Codes                     Kaliii   \n",
            "99  Princess Diana (with Nicki Minaj)     Ice Spice, Nicki Minaj   \n",
            "\n",
            "                           Album Name                Album ID  \\\n",
            "0               The Emptiness Machine  6W0Gabv5f3ugnckc6YgfJQ   \n",
            "1                         Not Like Us  5JjnoGJyOxfSZUZtk2rRwZ   \n",
            "2                           Big Dawgs  6Yw4204wbgmpsGTzjXBhYD   \n",
            "3       Guess featuring Billie Eilish  3ThlxfLSy4bfKzxWqmC7VN   \n",
            "4                  I Don't Wanna Wait  0wCLHkBRKcndhMQQpeo8Ji   \n",
            "..                                ...                     ...   \n",
            "95                         BABY HELLO  5KDgQ8sKzlThX02A5urLj0   \n",
            "96                            Players  4cAAsw7mPkGt15GXQzWlrM   \n",
            "97                      Pink Friday 2  2bYCNZfxZrTUv1CHXkz2d2   \n",
            "98                         Area Codes  6uk3hBYbrMsSzufADPjv9K   \n",
            "99  Princess Diana (with Nicki Minaj)  2Q7WBQ794rA9ISPLfqdKjK   \n",
            "\n",
            "                  Track ID  Popularity Release Date  Duration (ms)  Explicit  \\\n",
            "0   2PnlsTsOTLE5jnBnNe2K0A          90   2024-09-05         190428      True   \n",
            "1   6AI3ezQ4o3HUoP6Dhudph3          89   2024-05-04         274192      True   \n",
            "2   0OA00aPt3BV10qeMIs3meW          87   2024-07-09         190667      True   \n",
            "3   3WOhcATHxK2SLNeP5W3v1v          87   2024-08-01         145219     False   \n",
            "4   331l3xABO0HMr1Kkyh2LZq          86   2024-04-05         149668     False   \n",
            "..                     ...         ...          ...            ...       ...   \n",
            "95  2SOvWt6igzXViIjIiWNWEP          68   2023-06-23         222462      True   \n",
            "96  6UN73IYd0hZxLi8wFPMQij          68   2022-11-30         139560      True   \n",
            "97  5ZJGv7aGdIr9IGpxzSG18T          68   2023-12-08         180870      True   \n",
            "98  7sliFe6W30tPBPh6dvZsIH          68   2023-03-17         139326      True   \n",
            "99  0ZxhtATQ0a6EvQNZ0z6NKV          67   2023-04-14         172125      True   \n",
            "\n",
            "                                        External URLs  ...  Energy  Key  \\\n",
            "0   https://open.spotify.com/track/2PnlsTsOTLE5jnB...  ...   0.872    7   \n",
            "1   https://open.spotify.com/track/6AI3ezQ4o3HUoP6...  ...   0.472    1   \n",
            "2   https://open.spotify.com/track/0OA00aPt3BV10qe...  ...   0.745    4   \n",
            "3   https://open.spotify.com/track/3WOhcATHxK2SLNe...  ...   0.667    7   \n",
            "4   https://open.spotify.com/track/331l3xABO0HMr1K...  ...   0.714    1   \n",
            "..                                                ...  ...     ...  ...   \n",
            "95  https://open.spotify.com/track/2SOvWt6igzXViIj...  ...   0.892    1   \n",
            "96  https://open.spotify.com/track/6UN73IYd0hZxLi8...  ...   0.512    6   \n",
            "97  https://open.spotify.com/track/5ZJGv7aGdIr9IGp...  ...   0.774   11   \n",
            "98  https://open.spotify.com/track/7sliFe6W30tPBPh...  ...   0.388    1   \n",
            "99  https://open.spotify.com/track/0ZxhtATQ0a6EvQN...  ...   0.689    9   \n",
            "\n",
            "    Loudness  Mode  Speechiness  Acousticness  Instrumentalness  Liveness  \\\n",
            "0     -3.344     1       0.0336        0.0156          0.000000    0.1210   \n",
            "1     -7.001     1       0.0776        0.0107          0.000000    0.1410   \n",
            "2     -3.202     0       0.1610        0.0235          0.000000    0.3630   \n",
            "3     -6.622     1       0.0983        0.0146          0.300000    0.0761   \n",
            "4     -4.617     0       0.0309        0.0375          0.000000    0.2320   \n",
            "..       ...   ...          ...           ...               ...       ...   \n",
            "95    -3.732     0       0.0483        0.1660          0.000003    0.4290   \n",
            "96    -5.740     0       0.1460        0.0269          0.000009    0.0504   \n",
            "97    -5.525     0       0.2570        0.0262          0.000000    0.2380   \n",
            "98   -10.867     1       0.4910        0.0187          0.000000    0.0876   \n",
            "99    -5.092     1       0.1710        0.1650          0.000000    0.0957   \n",
            "\n",
            "    Valence    Tempo  \n",
            "0     0.806  184.115  \n",
            "1     0.214  101.061  \n",
            "2     0.262  180.098  \n",
            "3     0.618  130.019  \n",
            "4     0.554  129.976  \n",
            "..      ...      ...  \n",
            "95    0.842  130.007  \n",
            "96    0.599  105.004  \n",
            "97    0.428  137.959  \n",
            "98    0.507  154.569  \n",
            "99    0.772  147.964  \n",
            "\n",
            "[100 rows x 21 columns]\n"
          ]
        }
      ]
    },
    {
      "cell_type": "code",
      "source": [
        "print(music_df.isnull().sum())"
      ],
      "metadata": {
        "colab": {
          "base_uri": "https://localhost:8080/"
        },
        "id": "TypqDY9TKJJu",
        "outputId": "7c515ffc-93a5-4971-c66b-16543c3a830c"
      },
      "execution_count": 14,
      "outputs": [
        {
          "output_type": "stream",
          "name": "stdout",
          "text": [
            "Track Name          0\n",
            "Artists             0\n",
            "Album Name          0\n",
            "Album ID            0\n",
            "Track ID            0\n",
            "Popularity          0\n",
            "Release Date        0\n",
            "Duration (ms)       0\n",
            "Explicit            0\n",
            "External URLs       0\n",
            "Danceability        0\n",
            "Energy              0\n",
            "Key                 0\n",
            "Loudness            0\n",
            "Mode                0\n",
            "Speechiness         0\n",
            "Acousticness        0\n",
            "Instrumentalness    0\n",
            "Liveness            0\n",
            "Valence             0\n",
            "Tempo               0\n",
            "dtype: int64\n"
          ]
        }
      ]
    },
    {
      "cell_type": "code",
      "source": [
        "import pandas as pd\n",
        "import numpy as np\n",
        "from sklearn.model_selection import train_test_split\n",
        "from sklearn.preprocessing import MinMaxScaler\n",
        "from datetime import datetime\n",
        "from sklearn.metrics.pairwise import cosine_similarity\n",
        "\n",
        "data = music_df"
      ],
      "metadata": {
        "id": "yzUumBiAKkz8"
      },
      "execution_count": 15,
      "outputs": []
    },
    {
      "cell_type": "code",
      "source": [
        "# Function to calculate weighted popularity scores based on release date\n",
        "def calculate_weighted_popularity(release_date):\n",
        "    # Convert the release date to datetime object\n",
        "    release_date = datetime.strptime(release_date, '%Y-%m-%d')\n",
        "\n",
        "    # Calculate the time span between release date and today's date\n",
        "    time_span = datetime.now() - release_date\n",
        "\n",
        "    # Calculate the weighted popularity score based on time span (e.g., more recent releases have higher weight)\n",
        "    weight = 1 / (time_span.days + 1)\n",
        "    return weight"
      ],
      "metadata": {
        "id": "_LmG-mRmQKHb"
      },
      "execution_count": 16,
      "outputs": []
    },
    {
      "cell_type": "code",
      "source": [
        "# Normalize the music features using Min-Max scaling\n",
        "scaler = MinMaxScaler()\n",
        "music_features = music_df[['Danceability', 'Energy', 'Key',\n",
        "                           'Loudness', 'Mode', 'Speechiness', 'Acousticness',\n",
        "                           'Instrumentalness', 'Liveness', 'Valence', 'Tempo']].values\n",
        "music_features_scaled = scaler.fit_transform(music_features)"
      ],
      "metadata": {
        "id": "73tmaZZEQMoq"
      },
      "execution_count": 17,
      "outputs": []
    },
    {
      "cell_type": "code",
      "source": [
        "# a function to get content-based recommendations based on music features\n",
        "def content_based_recommendations(input_song_name, num_recommendations=5):\n",
        "    if input_song_name not in music_df['Track Name'].values:\n",
        "        print(f\"'{input_song_name}' not found in the dataset. Please enter a valid song name.\")\n",
        "        return\n",
        "\n",
        "    # Get the index of the input song in the music DataFrame\n",
        "    input_song_index = music_df[music_df['Track Name'] == input_song_name].index[0]\n",
        "\n",
        "    # Calculate the similarity scores based on music features (cosine similarity)\n",
        "    similarity_scores = cosine_similarity([music_features_scaled[input_song_index]], music_features_scaled)\n",
        "\n",
        "    # Get the indices of the most similar songs\n",
        "    similar_song_indices = similarity_scores.argsort()[0][::-1][1:num_recommendations + 1]\n",
        "\n",
        "    # Get the names of the most similar songs based on content-based filtering\n",
        "    content_based_recommendations = music_df.iloc[similar_song_indices][['Track Name', 'Artists', 'Album Name', 'Release Date', 'Popularity']]\n",
        "\n",
        "    return content_based_recommendations"
      ],
      "metadata": {
        "id": "loEb339OQPyW"
      },
      "execution_count": 18,
      "outputs": []
    },
    {
      "cell_type": "code",
      "source": [
        "import pandas as pd\n",
        "\n",
        "def hybrid_recommendations(input_song_name, num_recommendations=5, alpha=0.5):\n",
        "    if input_song_name not in music_df['Track Name'].values:\n",
        "        print(f\"'{input_song_name}' not found in the dataset. Please enter a valid song name.\")\n",
        "        return\n",
        "\n",
        "    content_based_rec = content_based_recommendations(input_song_name, num_recommendations)\n",
        "\n",
        "    popularity_score = music_df.loc[music_df['Track Name'] == input_song_name, 'Popularity'].values[0]\n",
        "\n",
        "    weighted_popularity_score = popularity_score * calculate_weighted_popularity(\n",
        "        music_df.loc[music_df['Track Name'] == input_song_name, 'Release Date'].values[0]\n",
        "    )\n",
        "\n",
        "    new_entry = pd.DataFrame({\n",
        "        'Track Name': [input_song_name],\n",
        "        'Artists': [music_df.loc[music_df['Track Name'] == input_song_name, 'Artists'].values[0]],\n",
        "        'Album Name': [music_df.loc[music_df['Track Name'] == input_song_name, 'Album Name'].values[0]],\n",
        "        'Release Date': [music_df.loc[music_df['Track Name'] == input_song_name, 'Release Date'].values[0]],\n",
        "        'Popularity': [weighted_popularity_score]\n",
        "    })\n",
        "\n",
        "    hybrid_recommendations = pd.concat([content_based_rec, new_entry], ignore_index=True)\n",
        "\n",
        "    hybrid_recommendations = hybrid_recommendations.sort_values(by='Popularity', ascending=False)\n",
        "\n",
        "    hybrid_recommendations = hybrid_recommendations[hybrid_recommendations['Track Name'] != input_song_name]\n",
        "\n",
        "    return hybrid_recommendations"
      ],
      "metadata": {
        "id": "U6kklKsRQZ8B"
      },
      "execution_count": 19,
      "outputs": []
    },
    {
      "cell_type": "code",
      "source": [
        "input_song_name = \"I'm Good (Blue)\"\n",
        "recommendations = hybrid_recommendations(input_song_name, num_recommendations=5)\n",
        "print(f\"Hybrid recommended songs for '{input_song_name}':\")\n",
        "print(recommendations)"
      ],
      "metadata": {
        "colab": {
          "base_uri": "https://localhost:8080/"
        },
        "id": "Oz8ljaTLQhlM",
        "outputId": "1a0dd602-f6a6-4c9b-d59a-9eae80cefc99"
      },
      "execution_count": 20,
      "outputs": [
        {
          "output_type": "stream",
          "name": "stdout",
          "text": [
            "Hybrid recommended songs for 'I'm Good (Blue)':\n",
            "                     Track Name                                     Artists  \\\n",
            "2                       KEEP UP                                     Odetari   \n",
            "3  It's Not Right But It's Okay                            Mr. Belt & Wezol   \n",
            "4         Rainfall (Praise You)                                   Tom Santa   \n",
            "0                         REACT  Switch Disco, Ella Henderson, Robert Miles   \n",
            "1                 Where You Are                          John Summit, HAYLA   \n",
            "\n",
            "                     Album Name Release Date  Popularity  \n",
            "2          KEEP UP // FROSTBITE   2024-07-17        85.0  \n",
            "3  It's Not Right But It's Okay   2024-02-23        79.0  \n",
            "4         Rainfall (Praise You)   2022-02-18        71.0  \n",
            "0                         REACT   2023-01-13        70.0  \n",
            "1                 Where You Are   2023-03-03        68.0  \n"
          ]
        }
      ]
    },
    {
      "cell_type": "code",
      "source": [],
      "metadata": {
        "id": "dLHAD8w4Qk9k"
      },
      "execution_count": null,
      "outputs": []
    }
  ]
}